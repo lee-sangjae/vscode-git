{
 "cells": [
  {
   "cell_type": "markdown",
   "metadata": {},
   "source": [
    "# 1. 알고리즘 성능 평가\n",
    "\n",
    "## (1) 요구사항에 따라 적절한 알고리즘 설계하기\n",
    "\n",
    "* 문제에서 가장 먼저 확인해야 하는 내용은 시간제한.\n",
    "* 시간제한이 1초인 문제를 만났을 때, 일반적 기준은 아래와 같음 (1초에 2천만번 연산한다고 가정)\n",
    "    * N범위가 500인 경우: 시간 복잡도 O(N^3)\n",
    "    * N범위가 2,000인 경우: 시간 복잡도 O(N^2)\n",
    "    * N범위가 100,000인 경우: 시간 복잡도 O(N log N)\n",
    "    * N범위가 10,000,000인 경우: 시간 복잡도 O(N)\n",
    "    \n",
    "## (2) 문제 해결 과정\n",
    "1. 지문 읽기 및 컴퓨터적 사고\n",
    "2. 요구사항(복잡도) 분석\n",
    "3. 문제 해결을 위한 아이디어 찾기\n",
    "4. 소스코드 설계 및 코딩\n",
    "#### => 무작정 코드부터 치지말고 큰 그림을 그리자!\n"
   ]
  },
  {
   "cell_type": "markdown",
   "metadata": {},
   "source": []
  },
  {
   "cell_type": "markdown",
   "metadata": {},
   "source": [
    "## (3) 수행 시간 측정"
   ]
  },
  {
   "cell_type": "code",
   "execution_count": 1,
   "metadata": {},
   "outputs": [
    {
     "name": "stdout",
     "output_type": "stream",
     "text": [
      "time:  0.6819820404052734\n"
     ]
    }
   ],
   "source": [
    "import time \n",
    "start_time = time.time()\n",
    "\n",
    "for i in range(20000000):\n",
    "    pass\n",
    "\n",
    "end_time = time.time()\n",
    "print(\"time: \", end_time - start_time)"
   ]
  },
  {
   "cell_type": "markdown",
   "metadata": {},
   "source": [
    "# 2. 자료형\n"
   ]
  },
  {
   "cell_type": "code",
   "execution_count": 4,
   "metadata": {},
   "outputs": [
    {
     "name": "stdout",
     "output_type": "stream",
     "text": [
      "0.8999999999999999\n",
      "False\n",
      "0.9\n",
      "True\n"
     ]
    }
   ],
   "source": [
    "#실수 연산하고 비교할 때 주의해야 함 \n",
    "\n",
    "a = 0.3 + 0.6\n",
    "print(a)\n",
    "\n",
    "if a==0.9:\n",
    "    print(True)\n",
    "else:\n",
    "    print(False)\n",
    "\n",
    "#반올림을 활용하자\n",
    "\n",
    "a = round(0.3 + 0.6, 4)\n",
    "print(a)\n",
    "\n",
    "if a==0.9:\n",
    "    print(True)\n",
    "else:\n",
    "    print(False)\n"
   ]
  },
  {
   "cell_type": "markdown",
   "metadata": {},
   "source": [
    "# 3. 리스트"
   ]
  },
  {
   "cell_type": "code",
   "execution_count": 1,
   "metadata": {},
   "outputs": [
    {
     "name": "stdout",
     "output_type": "stream",
     "text": [
      "test1:  0.0002720355987548828\n",
      "test2:  0.0003001689910888672\n"
     ]
    }
   ],
   "source": [
    "#리스트 컴프리핸션 (속도보다는 가독성때문에 쓴다고 생각하자!)\n",
    "import time \n",
    "\n",
    "start1 = time.time()\n",
    "array = [i for i in range(1000) if i%2==0]\n",
    "end1 = time.time()\n",
    "print(\"test1: \", end1-start1)\n",
    "\n",
    "start2 = time.time()\n",
    "array = []\n",
    "for i in range(1000):\n",
    "    if i%2==0:\n",
    "        array.append(i)\n",
    "end2 = time.time()\n",
    "print(\"test2: \", end2-start2)"
   ]
  },
  {
   "cell_type": "markdown",
   "metadata": {},
   "source": [
    "# 4. 튜플\n",
    "* 튜플을 사용하면 좋은 경우\n",
    "    * 서로 다른 성질의 데이터를 묶어서 관리해야 할 때\n",
    "        * 최단 경로 알고리즘에서는 (비용, 노드번호)의 형태로 튜플 자루 사용\n",
    "    * 데이터 나열을 해싱의 키 값으로 사용해야 할 때\n",
    "        * 튜플은 변경이 불가능하므로 리스트와 다르게 키 값으로 사용될 수 있음\n",
    "    * 리스트보다 메모리를 효율적으로 사용해야 할 때"
   ]
  },
  {
   "cell_type": "markdown",
   "metadata": {},
   "source": [
    "# 5. 딕셔너리\n",
    "* 해시 테이블을 이용하므로 데이터의 조회 및 수정에 있어서 O(1)의 시간에 처리 가능"
   ]
  },
  {
   "cell_type": "markdown",
   "metadata": {},
   "source": [
    "# 6. 집합\n",
    "* 딕셔너리와 마찬가지로 데이터의 조회 및 수정에 있어서 O(1)의 시간에 처리 가능"
   ]
  },
  {
   "cell_type": "markdown",
   "metadata": {},
   "source": [
    "# 7. 기본 입출력"
   ]
  },
  {
   "cell_type": "code",
   "execution_count": null,
   "metadata": {},
   "outputs": [],
   "source": [
    "#input(): 한줄의 문자열을 입력 받는 함수\n",
    "#map(): 리스트의 모든 원소에 각각 특정한 함수를 적용할 때 사용하는 함수\n",
    "\n",
    "# 공백 기준으로 구분된 데이터 입력 받을 때\n",
    "l = list(map(int, input().split()))\n",
    "\n",
    "# 공백 기준으로 구분된 데이터의 개수가 많지 않다면, 단순히 변수에 할당\n",
    "a, b, c = map(int, input().split())\n",
    "\n",
    "\n",
    "#사용자로부터 입력을 최대한 빠르게 받아야 하는 경우 => sys.stdin.readline() 사용\n",
    "# 단, 입력 후 엔터가 줄 바꿈 기호로 입력되므로 rstrip() 함께 써야 함\n",
    "import sys \n",
    "data = sys.stdin.readline().rstrip()\n",
    "print(data)"
   ]
  },
  {
   "cell_type": "code",
   "execution_count": null,
   "metadata": {},
   "outputs": [],
   "source": []
  }
 ],
 "metadata": {
  "kernelspec": {
   "display_name": "Python 3",
   "language": "python",
   "name": "python3"
  },
  "language_info": {
   "codemirror_mode": {
    "name": "ipython",
    "version": 3
   },
   "file_extension": ".py",
   "mimetype": "text/x-python",
   "name": "python",
   "nbconvert_exporter": "python",
   "pygments_lexer": "ipython3",
   "version": "3.11.2"
  }
 },
 "nbformat": 4,
 "nbformat_minor": 2
}
