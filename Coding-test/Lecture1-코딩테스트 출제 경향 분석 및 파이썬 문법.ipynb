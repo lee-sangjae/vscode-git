{
 "cells": [
  {
   "cell_type": "markdown",
   "metadata": {},
   "source": [
    "# 요구사항에 따라 적절한 알고리즘 설계하기\n",
    "\n",
    "* 문제에서 가장 먼저 확인해야 하는 내용은 시간제한.\n",
    "* 시간제한이 1초인 문제를 만났을 때, 일반적 기준은 아래와 같음 (1초에 2천만번 연산한다고 가정)\n",
    "    * N범위가 500인 경우: 시간 복잡도 O(N^3)\n",
    "    * N범위가 2,000인 경우: 시간 복잡도 O(N^2)\n",
    "    * N범위가 100,000인 경우: 시간 복잡도 O(N log N)\n",
    "    * N범위가 10,000,000인 경우: 시간 복잡도 O(N)\n",
    "    \n"
   ]
  },
  {
   "cell_type": "markdown",
   "metadata": {},
   "source": [
    "# 문제 해결 과정\n",
    "1. 지문 읽기 및 컴퓨터적 사고\n",
    "2. 요구사항(복잡도) 분석\n",
    "3. 문제 해결을 위한 아이디어 찾기\n",
    "4. 소스코드 설계 및 코딩\n",
    "\n",
    "무작정 코드부터 치기보다는, 그림을 그려놓고 시작하자"
   ]
  },
  {
   "cell_type": "markdown",
   "metadata": {},
   "source": [
    "# 수행 시간 측정"
   ]
  },
  {
   "cell_type": "code",
   "execution_count": 1,
   "metadata": {},
   "outputs": [
    {
     "name": "stdout",
     "output_type": "stream",
     "text": [
      "time:  0.6819820404052734\n"
     ]
    }
   ],
   "source": [
    "import time \n",
    "start_time = time.time()\n",
    "\n",
    "for i in range(20000000):\n",
    "    pass\n",
    "\n",
    "end_time = time.time()\n",
    "print(\"time: \", end_time - start_time)"
   ]
  },
  {
   "cell_type": "markdown",
   "metadata": {},
   "source": []
  }
 ],
 "metadata": {
  "kernelspec": {
   "display_name": "Python 3",
   "language": "python",
   "name": "python3"
  },
  "language_info": {
   "codemirror_mode": {
    "name": "ipython",
    "version": 3
   },
   "file_extension": ".py",
   "mimetype": "text/x-python",
   "name": "python",
   "nbconvert_exporter": "python",
   "pygments_lexer": "ipython3",
   "version": "3.11.2"
  }
 },
 "nbformat": 4,
 "nbformat_minor": 2
}
